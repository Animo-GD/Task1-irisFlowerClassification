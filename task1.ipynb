{
 "cells": [
  {
   "cell_type": "code",
   "execution_count": 1,
   "metadata": {},
   "outputs": [],
   "source": [
    "from sklearn.datasets import load_iris\n",
    "from sklearn.model_selection import train_test_split,GridSearchCV\n",
    "from sklearn.tree import DecisionTreeClassifier\n",
    "from sklearn.neighbors import KNeighborsClassifier\n",
    "from sklearn.ensemble import RandomForestClassifier,GradientBoostingClassifier\n",
    "from sklearn.naive_bayes import GaussianNB\n",
    "from sklearn.linear_model import LogisticRegression\n",
    "from sklearn.metrics import classification_report,accuracy_score\n",
    "from keras.utils import to_categorical\n",
    "from sklearn.svm import SVC\n",
    "import xgboost as xgb\n",
    "import numpy as np"
   ]
  },
  {
   "cell_type": "code",
   "execution_count": 2,
   "metadata": {},
   "outputs": [],
   "source": [
    "iris = load_iris()\n",
    "X = iris.data\n",
    "y = iris.target"
   ]
  },
  {
   "cell_type": "code",
   "execution_count": 3,
   "metadata": {},
   "outputs": [],
   "source": [
    "x_train,x_test,y_train,y_test = train_test_split(X,y,test_size=.2,random_state=42)"
   ]
  },
  {
   "cell_type": "code",
   "execution_count": 4,
   "metadata": {},
   "outputs": [
    {
     "data": {
      "text/plain": [
       "(120, 4)"
      ]
     },
     "execution_count": 4,
     "metadata": {},
     "output_type": "execute_result"
    }
   ],
   "source": [
    "x_train.shape"
   ]
  },
  {
   "cell_type": "markdown",
   "metadata": {},
   "source": [
    "## Logistic Regression"
   ]
  },
  {
   "cell_type": "code",
   "execution_count": 5,
   "metadata": {},
   "outputs": [
    {
     "name": "stdout",
     "output_type": "stream",
     "text": [
      "Training Accuracy :  0.975\n",
      "Test Accuracy :  1.0\n",
      "Classification Report:\n",
      "               precision    recall  f1-score   support\n",
      "\n",
      "           0       1.00      1.00      1.00        40\n",
      "           1       1.00      0.93      0.96        41\n",
      "           2       0.93      1.00      0.96        39\n",
      "\n",
      "    accuracy                           0.97       120\n",
      "   macro avg       0.98      0.98      0.97       120\n",
      "weighted avg       0.98      0.97      0.97       120\n",
      "\n"
     ]
    }
   ],
   "source": [
    "lr = LogisticRegression(max_iter=300)\n",
    "lr.fit(x_train,y_train)\n",
    "train_pred = lr.predict(x_train)\n",
    "test_pred = lr.predict(x_test)\n",
    "print(\"Training Accuracy : \",accuracy_score(y_train,train_pred))\n",
    "print(\"Test Accuracy : \",accuracy_score(y_test,test_pred))\n",
    "print(\"Classification Report:\\n\",classification_report(y_train,train_pred))"
   ]
  },
  {
   "cell_type": "markdown",
   "metadata": {},
   "source": [
    "## K-Nearest Neighbors\n"
   ]
  },
  {
   "cell_type": "code",
   "execution_count": 6,
   "metadata": {},
   "outputs": [
    {
     "name": "stderr",
     "output_type": "stream",
     "text": [
      "c:\\Users\\mo3az\\AppData\\Local\\Programs\\Python\\Python311\\Lib\\site-packages\\sklearn\\metrics\\pairwise.py:2182: DataConversionWarning: Data was converted to boolean for metric sokalmichener\n",
      "  warnings.warn(msg, DataConversionWarning)\n",
      "c:\\Users\\mo3az\\AppData\\Local\\Programs\\Python\\Python311\\Lib\\site-packages\\sklearn\\metrics\\pairwise.py:2182: DataConversionWarning: Data was converted to boolean for metric sokalmichener\n",
      "  warnings.warn(msg, DataConversionWarning)\n",
      "c:\\Users\\mo3az\\AppData\\Local\\Programs\\Python\\Python311\\Lib\\site-packages\\sklearn\\metrics\\pairwise.py:2182: DataConversionWarning: Data was converted to boolean for metric sokalmichener\n",
      "  warnings.warn(msg, DataConversionWarning)\n",
      "c:\\Users\\mo3az\\AppData\\Local\\Programs\\Python\\Python311\\Lib\\site-packages\\sklearn\\metrics\\pairwise.py:2182: DataConversionWarning: Data was converted to boolean for metric sokalmichener\n",
      "  warnings.warn(msg, DataConversionWarning)\n",
      "c:\\Users\\mo3az\\AppData\\Local\\Programs\\Python\\Python311\\Lib\\site-packages\\sklearn\\metrics\\pairwise.py:2182: DataConversionWarning: Data was converted to boolean for metric sokalmichener\n",
      "  warnings.warn(msg, DataConversionWarning)\n",
      "c:\\Users\\mo3az\\AppData\\Local\\Programs\\Python\\Python311\\Lib\\site-packages\\sklearn\\metrics\\pairwise.py:2182: DataConversionWarning: Data was converted to boolean for metric sokalmichener\n",
      "  warnings.warn(msg, DataConversionWarning)\n",
      "c:\\Users\\mo3az\\AppData\\Local\\Programs\\Python\\Python311\\Lib\\site-packages\\sklearn\\metrics\\pairwise.py:2182: DataConversionWarning: Data was converted to boolean for metric sokalmichener\n",
      "  warnings.warn(msg, DataConversionWarning)\n",
      "c:\\Users\\mo3az\\AppData\\Local\\Programs\\Python\\Python311\\Lib\\site-packages\\sklearn\\metrics\\pairwise.py:2182: DataConversionWarning: Data was converted to boolean for metric sokalmichener\n",
      "  warnings.warn(msg, DataConversionWarning)\n",
      "c:\\Users\\mo3az\\AppData\\Local\\Programs\\Python\\Python311\\Lib\\site-packages\\sklearn\\metrics\\pairwise.py:2182: DataConversionWarning: Data was converted to boolean for metric sokalmichener\n",
      "  warnings.warn(msg, DataConversionWarning)\n",
      "c:\\Users\\mo3az\\AppData\\Local\\Programs\\Python\\Python311\\Lib\\site-packages\\sklearn\\metrics\\pairwise.py:2182: DataConversionWarning: Data was converted to boolean for metric sokalmichener\n",
      "  warnings.warn(msg, DataConversionWarning)\n",
      "c:\\Users\\mo3az\\AppData\\Local\\Programs\\Python\\Python311\\Lib\\site-packages\\sklearn\\metrics\\pairwise.py:2182: DataConversionWarning: Data was converted to boolean for metric sokalmichener\n",
      "  warnings.warn(msg, DataConversionWarning)\n",
      "c:\\Users\\mo3az\\AppData\\Local\\Programs\\Python\\Python311\\Lib\\site-packages\\sklearn\\metrics\\pairwise.py:2182: DataConversionWarning: Data was converted to boolean for metric sokalmichener\n",
      "  warnings.warn(msg, DataConversionWarning)\n",
      "c:\\Users\\mo3az\\AppData\\Local\\Programs\\Python\\Python311\\Lib\\site-packages\\sklearn\\metrics\\pairwise.py:2182: DataConversionWarning: Data was converted to boolean for metric sokalmichener\n",
      "  warnings.warn(msg, DataConversionWarning)\n",
      "c:\\Users\\mo3az\\AppData\\Local\\Programs\\Python\\Python311\\Lib\\site-packages\\sklearn\\metrics\\pairwise.py:2182: DataConversionWarning: Data was converted to boolean for metric sokalmichener\n",
      "  warnings.warn(msg, DataConversionWarning)\n",
      "c:\\Users\\mo3az\\AppData\\Local\\Programs\\Python\\Python311\\Lib\\site-packages\\sklearn\\metrics\\pairwise.py:2182: DataConversionWarning: Data was converted to boolean for metric sokalmichener\n",
      "  warnings.warn(msg, DataConversionWarning)\n",
      "c:\\Users\\mo3az\\AppData\\Local\\Programs\\Python\\Python311\\Lib\\site-packages\\sklearn\\metrics\\pairwise.py:2182: DataConversionWarning: Data was converted to boolean for metric sokalmichener\n",
      "  warnings.warn(msg, DataConversionWarning)\n",
      "c:\\Users\\mo3az\\AppData\\Local\\Programs\\Python\\Python311\\Lib\\site-packages\\sklearn\\metrics\\pairwise.py:2182: DataConversionWarning: Data was converted to boolean for metric sokalmichener\n",
      "  warnings.warn(msg, DataConversionWarning)\n",
      "c:\\Users\\mo3az\\AppData\\Local\\Programs\\Python\\Python311\\Lib\\site-packages\\sklearn\\metrics\\pairwise.py:2182: DataConversionWarning: Data was converted to boolean for metric sokalmichener\n",
      "  warnings.warn(msg, DataConversionWarning)\n",
      "c:\\Users\\mo3az\\AppData\\Local\\Programs\\Python\\Python311\\Lib\\site-packages\\sklearn\\metrics\\pairwise.py:2182: DataConversionWarning: Data was converted to boolean for metric sokalmichener\n",
      "  warnings.warn(msg, DataConversionWarning)\n",
      "c:\\Users\\mo3az\\AppData\\Local\\Programs\\Python\\Python311\\Lib\\site-packages\\sklearn\\metrics\\pairwise.py:2182: DataConversionWarning: Data was converted to boolean for metric sokalmichener\n",
      "  warnings.warn(msg, DataConversionWarning)\n",
      "c:\\Users\\mo3az\\AppData\\Local\\Programs\\Python\\Python311\\Lib\\site-packages\\sklearn\\metrics\\pairwise.py:2182: DataConversionWarning: Data was converted to boolean for metric sokalmichener\n",
      "  warnings.warn(msg, DataConversionWarning)\n",
      "c:\\Users\\mo3az\\AppData\\Local\\Programs\\Python\\Python311\\Lib\\site-packages\\sklearn\\metrics\\pairwise.py:2182: DataConversionWarning: Data was converted to boolean for metric sokalmichener\n",
      "  warnings.warn(msg, DataConversionWarning)\n",
      "c:\\Users\\mo3az\\AppData\\Local\\Programs\\Python\\Python311\\Lib\\site-packages\\sklearn\\metrics\\pairwise.py:2182: DataConversionWarning: Data was converted to boolean for metric sokalmichener\n",
      "  warnings.warn(msg, DataConversionWarning)\n",
      "c:\\Users\\mo3az\\AppData\\Local\\Programs\\Python\\Python311\\Lib\\site-packages\\sklearn\\metrics\\pairwise.py:2182: DataConversionWarning: Data was converted to boolean for metric sokalmichener\n",
      "  warnings.warn(msg, DataConversionWarning)\n",
      "c:\\Users\\mo3az\\AppData\\Local\\Programs\\Python\\Python311\\Lib\\site-packages\\sklearn\\metrics\\pairwise.py:2182: DataConversionWarning: Data was converted to boolean for metric sokalmichener\n",
      "  warnings.warn(msg, DataConversionWarning)\n",
      "c:\\Users\\mo3az\\AppData\\Local\\Programs\\Python\\Python311\\Lib\\site-packages\\sklearn\\metrics\\pairwise.py:2182: DataConversionWarning: Data was converted to boolean for metric sokalmichener\n",
      "  warnings.warn(msg, DataConversionWarning)\n",
      "c:\\Users\\mo3az\\AppData\\Local\\Programs\\Python\\Python311\\Lib\\site-packages\\sklearn\\metrics\\pairwise.py:2182: DataConversionWarning: Data was converted to boolean for metric sokalmichener\n",
      "  warnings.warn(msg, DataConversionWarning)\n",
      "c:\\Users\\mo3az\\AppData\\Local\\Programs\\Python\\Python311\\Lib\\site-packages\\sklearn\\metrics\\pairwise.py:2182: DataConversionWarning: Data was converted to boolean for metric sokalmichener\n",
      "  warnings.warn(msg, DataConversionWarning)\n",
      "c:\\Users\\mo3az\\AppData\\Local\\Programs\\Python\\Python311\\Lib\\site-packages\\sklearn\\metrics\\pairwise.py:2182: DataConversionWarning: Data was converted to boolean for metric sokalmichener\n",
      "  warnings.warn(msg, DataConversionWarning)\n",
      "c:\\Users\\mo3az\\AppData\\Local\\Programs\\Python\\Python311\\Lib\\site-packages\\sklearn\\metrics\\pairwise.py:2182: DataConversionWarning: Data was converted to boolean for metric sokalmichener\n",
      "  warnings.warn(msg, DataConversionWarning)\n",
      "c:\\Users\\mo3az\\AppData\\Local\\Programs\\Python\\Python311\\Lib\\site-packages\\sklearn\\metrics\\pairwise.py:2182: DataConversionWarning: Data was converted to boolean for metric sokalmichener\n",
      "  warnings.warn(msg, DataConversionWarning)\n",
      "c:\\Users\\mo3az\\AppData\\Local\\Programs\\Python\\Python311\\Lib\\site-packages\\sklearn\\metrics\\pairwise.py:2182: DataConversionWarning: Data was converted to boolean for metric sokalmichener\n",
      "  warnings.warn(msg, DataConversionWarning)\n",
      "c:\\Users\\mo3az\\AppData\\Local\\Programs\\Python\\Python311\\Lib\\site-packages\\sklearn\\metrics\\pairwise.py:2182: DataConversionWarning: Data was converted to boolean for metric sokalmichener\n",
      "  warnings.warn(msg, DataConversionWarning)\n",
      "c:\\Users\\mo3az\\AppData\\Local\\Programs\\Python\\Python311\\Lib\\site-packages\\sklearn\\metrics\\pairwise.py:2182: DataConversionWarning: Data was converted to boolean for metric sokalmichener\n",
      "  warnings.warn(msg, DataConversionWarning)\n",
      "c:\\Users\\mo3az\\AppData\\Local\\Programs\\Python\\Python311\\Lib\\site-packages\\sklearn\\metrics\\pairwise.py:2182: DataConversionWarning: Data was converted to boolean for metric sokalmichener\n",
      "  warnings.warn(msg, DataConversionWarning)\n",
      "c:\\Users\\mo3az\\AppData\\Local\\Programs\\Python\\Python311\\Lib\\site-packages\\sklearn\\metrics\\pairwise.py:2182: DataConversionWarning: Data was converted to boolean for metric sokalmichener\n",
      "  warnings.warn(msg, DataConversionWarning)\n",
      "c:\\Users\\mo3az\\AppData\\Local\\Programs\\Python\\Python311\\Lib\\site-packages\\sklearn\\metrics\\pairwise.py:2182: DataConversionWarning: Data was converted to boolean for metric sokalmichener\n",
      "  warnings.warn(msg, DataConversionWarning)\n",
      "c:\\Users\\mo3az\\AppData\\Local\\Programs\\Python\\Python311\\Lib\\site-packages\\sklearn\\metrics\\pairwise.py:2182: DataConversionWarning: Data was converted to boolean for metric sokalmichener\n",
      "  warnings.warn(msg, DataConversionWarning)\n",
      "c:\\Users\\mo3az\\AppData\\Local\\Programs\\Python\\Python311\\Lib\\site-packages\\sklearn\\metrics\\pairwise.py:2182: DataConversionWarning: Data was converted to boolean for metric sokalmichener\n",
      "  warnings.warn(msg, DataConversionWarning)\n",
      "c:\\Users\\mo3az\\AppData\\Local\\Programs\\Python\\Python311\\Lib\\site-packages\\sklearn\\metrics\\pairwise.py:2182: DataConversionWarning: Data was converted to boolean for metric sokalmichener\n",
      "  warnings.warn(msg, DataConversionWarning)\n",
      "c:\\Users\\mo3az\\AppData\\Local\\Programs\\Python\\Python311\\Lib\\site-packages\\sklearn\\metrics\\pairwise.py:2182: DataConversionWarning: Data was converted to boolean for metric sokalmichener\n",
      "  warnings.warn(msg, DataConversionWarning)\n",
      "c:\\Users\\mo3az\\AppData\\Local\\Programs\\Python\\Python311\\Lib\\site-packages\\sklearn\\metrics\\pairwise.py:2182: DataConversionWarning: Data was converted to boolean for metric sokalmichener\n",
      "  warnings.warn(msg, DataConversionWarning)\n",
      "c:\\Users\\mo3az\\AppData\\Local\\Programs\\Python\\Python311\\Lib\\site-packages\\sklearn\\metrics\\pairwise.py:2182: DataConversionWarning: Data was converted to boolean for metric sokalmichener\n",
      "  warnings.warn(msg, DataConversionWarning)\n",
      "c:\\Users\\mo3az\\AppData\\Local\\Programs\\Python\\Python311\\Lib\\site-packages\\sklearn\\metrics\\pairwise.py:2182: DataConversionWarning: Data was converted to boolean for metric sokalmichener\n",
      "  warnings.warn(msg, DataConversionWarning)\n",
      "c:\\Users\\mo3az\\AppData\\Local\\Programs\\Python\\Python311\\Lib\\site-packages\\sklearn\\metrics\\pairwise.py:2182: DataConversionWarning: Data was converted to boolean for metric sokalmichener\n",
      "  warnings.warn(msg, DataConversionWarning)\n",
      "c:\\Users\\mo3az\\AppData\\Local\\Programs\\Python\\Python311\\Lib\\site-packages\\sklearn\\metrics\\pairwise.py:2182: DataConversionWarning: Data was converted to boolean for metric sokalmichener\n",
      "  warnings.warn(msg, DataConversionWarning)\n",
      "c:\\Users\\mo3az\\AppData\\Local\\Programs\\Python\\Python311\\Lib\\site-packages\\sklearn\\metrics\\pairwise.py:2182: DataConversionWarning: Data was converted to boolean for metric sokalmichener\n",
      "  warnings.warn(msg, DataConversionWarning)\n",
      "c:\\Users\\mo3az\\AppData\\Local\\Programs\\Python\\Python311\\Lib\\site-packages\\sklearn\\metrics\\pairwise.py:2182: DataConversionWarning: Data was converted to boolean for metric sokalmichener\n",
      "  warnings.warn(msg, DataConversionWarning)\n",
      "c:\\Users\\mo3az\\AppData\\Local\\Programs\\Python\\Python311\\Lib\\site-packages\\sklearn\\metrics\\pairwise.py:2182: DataConversionWarning: Data was converted to boolean for metric sokalmichener\n",
      "  warnings.warn(msg, DataConversionWarning)\n",
      "c:\\Users\\mo3az\\AppData\\Local\\Programs\\Python\\Python311\\Lib\\site-packages\\sklearn\\metrics\\pairwise.py:2182: DataConversionWarning: Data was converted to boolean for metric sokalmichener\n",
      "  warnings.warn(msg, DataConversionWarning)\n",
      "c:\\Users\\mo3az\\AppData\\Local\\Programs\\Python\\Python311\\Lib\\site-packages\\sklearn\\metrics\\pairwise.py:2182: DataConversionWarning: Data was converted to boolean for metric sokalmichener\n",
      "  warnings.warn(msg, DataConversionWarning)\n",
      "c:\\Users\\mo3az\\AppData\\Local\\Programs\\Python\\Python311\\Lib\\site-packages\\sklearn\\metrics\\pairwise.py:2182: DataConversionWarning: Data was converted to boolean for metric sokalmichener\n",
      "  warnings.warn(msg, DataConversionWarning)\n",
      "c:\\Users\\mo3az\\AppData\\Local\\Programs\\Python\\Python311\\Lib\\site-packages\\sklearn\\metrics\\pairwise.py:2182: DataConversionWarning: Data was converted to boolean for metric sokalmichener\n",
      "  warnings.warn(msg, DataConversionWarning)\n",
      "c:\\Users\\mo3az\\AppData\\Local\\Programs\\Python\\Python311\\Lib\\site-packages\\sklearn\\metrics\\pairwise.py:2182: DataConversionWarning: Data was converted to boolean for metric sokalmichener\n",
      "  warnings.warn(msg, DataConversionWarning)\n",
      "c:\\Users\\mo3az\\AppData\\Local\\Programs\\Python\\Python311\\Lib\\site-packages\\sklearn\\metrics\\pairwise.py:2182: DataConversionWarning: Data was converted to boolean for metric sokalmichener\n",
      "  warnings.warn(msg, DataConversionWarning)\n",
      "c:\\Users\\mo3az\\AppData\\Local\\Programs\\Python\\Python311\\Lib\\site-packages\\sklearn\\metrics\\pairwise.py:2182: DataConversionWarning: Data was converted to boolean for metric sokalmichener\n",
      "  warnings.warn(msg, DataConversionWarning)\n",
      "c:\\Users\\mo3az\\AppData\\Local\\Programs\\Python\\Python311\\Lib\\site-packages\\sklearn\\metrics\\pairwise.py:2182: DataConversionWarning: Data was converted to boolean for metric sokalmichener\n",
      "  warnings.warn(msg, DataConversionWarning)\n",
      "c:\\Users\\mo3az\\AppData\\Local\\Programs\\Python\\Python311\\Lib\\site-packages\\sklearn\\metrics\\pairwise.py:2182: DataConversionWarning: Data was converted to boolean for metric sokalmichener\n",
      "  warnings.warn(msg, DataConversionWarning)\n",
      "c:\\Users\\mo3az\\AppData\\Local\\Programs\\Python\\Python311\\Lib\\site-packages\\sklearn\\metrics\\pairwise.py:2182: DataConversionWarning: Data was converted to boolean for metric sokalmichener\n",
      "  warnings.warn(msg, DataConversionWarning)\n",
      "c:\\Users\\mo3az\\AppData\\Local\\Programs\\Python\\Python311\\Lib\\site-packages\\sklearn\\metrics\\pairwise.py:2182: DataConversionWarning: Data was converted to boolean for metric sokalmichener\n",
      "  warnings.warn(msg, DataConversionWarning)\n"
     ]
    },
    {
     "data": {
      "text/html": [
       "<style>#sk-container-id-1 {color: black;}#sk-container-id-1 pre{padding: 0;}#sk-container-id-1 div.sk-toggleable {background-color: white;}#sk-container-id-1 label.sk-toggleable__label {cursor: pointer;display: block;width: 100%;margin-bottom: 0;padding: 0.3em;box-sizing: border-box;text-align: center;}#sk-container-id-1 label.sk-toggleable__label-arrow:before {content: \"▸\";float: left;margin-right: 0.25em;color: #696969;}#sk-container-id-1 label.sk-toggleable__label-arrow:hover:before {color: black;}#sk-container-id-1 div.sk-estimator:hover label.sk-toggleable__label-arrow:before {color: black;}#sk-container-id-1 div.sk-toggleable__content {max-height: 0;max-width: 0;overflow: hidden;text-align: left;background-color: #f0f8ff;}#sk-container-id-1 div.sk-toggleable__content pre {margin: 0.2em;color: black;border-radius: 0.25em;background-color: #f0f8ff;}#sk-container-id-1 input.sk-toggleable__control:checked~div.sk-toggleable__content {max-height: 200px;max-width: 100%;overflow: auto;}#sk-container-id-1 input.sk-toggleable__control:checked~label.sk-toggleable__label-arrow:before {content: \"▾\";}#sk-container-id-1 div.sk-estimator input.sk-toggleable__control:checked~label.sk-toggleable__label {background-color: #d4ebff;}#sk-container-id-1 div.sk-label input.sk-toggleable__control:checked~label.sk-toggleable__label {background-color: #d4ebff;}#sk-container-id-1 input.sk-hidden--visually {border: 0;clip: rect(1px 1px 1px 1px);clip: rect(1px, 1px, 1px, 1px);height: 1px;margin: -1px;overflow: hidden;padding: 0;position: absolute;width: 1px;}#sk-container-id-1 div.sk-estimator {font-family: monospace;background-color: #f0f8ff;border: 1px dotted black;border-radius: 0.25em;box-sizing: border-box;margin-bottom: 0.5em;}#sk-container-id-1 div.sk-estimator:hover {background-color: #d4ebff;}#sk-container-id-1 div.sk-parallel-item::after {content: \"\";width: 100%;border-bottom: 1px solid gray;flex-grow: 1;}#sk-container-id-1 div.sk-label:hover label.sk-toggleable__label {background-color: #d4ebff;}#sk-container-id-1 div.sk-serial::before {content: \"\";position: absolute;border-left: 1px solid gray;box-sizing: border-box;top: 0;bottom: 0;left: 50%;z-index: 0;}#sk-container-id-1 div.sk-serial {display: flex;flex-direction: column;align-items: center;background-color: white;padding-right: 0.2em;padding-left: 0.2em;position: relative;}#sk-container-id-1 div.sk-item {position: relative;z-index: 1;}#sk-container-id-1 div.sk-parallel {display: flex;align-items: stretch;justify-content: center;background-color: white;position: relative;}#sk-container-id-1 div.sk-item::before, #sk-container-id-1 div.sk-parallel-item::before {content: \"\";position: absolute;border-left: 1px solid gray;box-sizing: border-box;top: 0;bottom: 0;left: 50%;z-index: -1;}#sk-container-id-1 div.sk-parallel-item {display: flex;flex-direction: column;z-index: 1;position: relative;background-color: white;}#sk-container-id-1 div.sk-parallel-item:first-child::after {align-self: flex-end;width: 50%;}#sk-container-id-1 div.sk-parallel-item:last-child::after {align-self: flex-start;width: 50%;}#sk-container-id-1 div.sk-parallel-item:only-child::after {width: 0;}#sk-container-id-1 div.sk-dashed-wrapped {border: 1px dashed gray;margin: 0 0.4em 0.5em 0.4em;box-sizing: border-box;padding-bottom: 0.4em;background-color: white;}#sk-container-id-1 div.sk-label label {font-family: monospace;font-weight: bold;display: inline-block;line-height: 1.2em;}#sk-container-id-1 div.sk-label-container {text-align: center;}#sk-container-id-1 div.sk-container {/* jupyter's `normalize.less` sets `[hidden] { display: none; }` but bootstrap.min.css set `[hidden] { display: none !important; }` so we also need the `!important` here to be able to override the default hidden behavior on the sphinx rendered scikit-learn.org. See: https://github.com/scikit-learn/scikit-learn/issues/21755 */display: inline-block !important;position: relative;}#sk-container-id-1 div.sk-text-repr-fallback {display: none;}</style><div id=\"sk-container-id-1\" class=\"sk-top-container\"><div class=\"sk-text-repr-fallback\"><pre>GridSearchCV(cv=5, estimator=KNeighborsClassifier(),\n",
       "             param_grid={&#x27;metric&#x27;: [&#x27;cosine&#x27;, &#x27;infinity&#x27;, &#x27;sokalmichener&#x27;,\n",
       "                                    &#x27;euclidean&#x27;],\n",
       "                         &#x27;n_neighbors&#x27;: array([ 1,  2,  3,  4,  5,  6,  7,  8,  9, 10, 11, 12, 13, 14, 15, 16, 17,\n",
       "       18, 19, 20, 21, 22, 23, 24, 25, 26, 27, 28, 29, 30, 31, 32, 33, 34,\n",
       "       35, 36, 37, 38, 39, 40, 41, 42, 43, 44, 45, 46, 47, 48, 49]),\n",
       "                         &#x27;p&#x27;: [1, 2, 3], &#x27;weights&#x27;: [&#x27;uniform&#x27;, &#x27;distance&#x27;]})</pre><b>In a Jupyter environment, please rerun this cell to show the HTML representation or trust the notebook. <br />On GitHub, the HTML representation is unable to render, please try loading this page with nbviewer.org.</b></div><div class=\"sk-container\" hidden><div class=\"sk-item sk-dashed-wrapped\"><div class=\"sk-label-container\"><div class=\"sk-label sk-toggleable\"><input class=\"sk-toggleable__control sk-hidden--visually\" id=\"sk-estimator-id-1\" type=\"checkbox\" ><label for=\"sk-estimator-id-1\" class=\"sk-toggleable__label sk-toggleable__label-arrow\">GridSearchCV</label><div class=\"sk-toggleable__content\"><pre>GridSearchCV(cv=5, estimator=KNeighborsClassifier(),\n",
       "             param_grid={&#x27;metric&#x27;: [&#x27;cosine&#x27;, &#x27;infinity&#x27;, &#x27;sokalmichener&#x27;,\n",
       "                                    &#x27;euclidean&#x27;],\n",
       "                         &#x27;n_neighbors&#x27;: array([ 1,  2,  3,  4,  5,  6,  7,  8,  9, 10, 11, 12, 13, 14, 15, 16, 17,\n",
       "       18, 19, 20, 21, 22, 23, 24, 25, 26, 27, 28, 29, 30, 31, 32, 33, 34,\n",
       "       35, 36, 37, 38, 39, 40, 41, 42, 43, 44, 45, 46, 47, 48, 49]),\n",
       "                         &#x27;p&#x27;: [1, 2, 3], &#x27;weights&#x27;: [&#x27;uniform&#x27;, &#x27;distance&#x27;]})</pre></div></div></div><div class=\"sk-parallel\"><div class=\"sk-parallel-item\"><div class=\"sk-item\"><div class=\"sk-label-container\"><div class=\"sk-label sk-toggleable\"><input class=\"sk-toggleable__control sk-hidden--visually\" id=\"sk-estimator-id-2\" type=\"checkbox\" ><label for=\"sk-estimator-id-2\" class=\"sk-toggleable__label sk-toggleable__label-arrow\">estimator: KNeighborsClassifier</label><div class=\"sk-toggleable__content\"><pre>KNeighborsClassifier()</pre></div></div></div><div class=\"sk-serial\"><div class=\"sk-item\"><div class=\"sk-estimator sk-toggleable\"><input class=\"sk-toggleable__control sk-hidden--visually\" id=\"sk-estimator-id-3\" type=\"checkbox\" ><label for=\"sk-estimator-id-3\" class=\"sk-toggleable__label sk-toggleable__label-arrow\">KNeighborsClassifier</label><div class=\"sk-toggleable__content\"><pre>KNeighborsClassifier()</pre></div></div></div></div></div></div></div></div></div></div>"
      ],
      "text/plain": [
       "GridSearchCV(cv=5, estimator=KNeighborsClassifier(),\n",
       "             param_grid={'metric': ['cosine', 'infinity', 'sokalmichener',\n",
       "                                    'euclidean'],\n",
       "                         'n_neighbors': array([ 1,  2,  3,  4,  5,  6,  7,  8,  9, 10, 11, 12, 13, 14, 15, 16, 17,\n",
       "       18, 19, 20, 21, 22, 23, 24, 25, 26, 27, 28, 29, 30, 31, 32, 33, 34,\n",
       "       35, 36, 37, 38, 39, 40, 41, 42, 43, 44, 45, 46, 47, 48, 49]),\n",
       "                         'p': [1, 2, 3], 'weights': ['uniform', 'distance']})"
      ]
     },
     "execution_count": 6,
     "metadata": {},
     "output_type": "execute_result"
    }
   ],
   "source": [
    "knn = KNeighborsClassifier()\n",
    "param_grid = {\n",
    "    'n_neighbors': np.arange(1,50),\n",
    "    'weights':['uniform','distance'],\n",
    "    'metric':['cosine', 'infinity', 'sokalmichener','euclidean'],\n",
    "    'p':[1,2,3]\n",
    "}\n",
    "grid_search = GridSearchCV(knn,param_grid,cv=5)\n",
    "grid_search.fit(x_train,y_train)\n"
   ]
  },
  {
   "cell_type": "code",
   "execution_count": 7,
   "metadata": {},
   "outputs": [
    {
     "name": "stdout",
     "output_type": "stream",
     "text": [
      "Best Parameter For KNN :  {'metric': 'cosine', 'n_neighbors': 3, 'p': 1, 'weights': 'uniform'}\n"
     ]
    }
   ],
   "source": [
    "print(\"Best Parameter For KNN : \",grid_search.best_params_)"
   ]
  },
  {
   "cell_type": "code",
   "execution_count": 8,
   "metadata": {},
   "outputs": [
    {
     "name": "stdout",
     "output_type": "stream",
     "text": [
      "Training Accuracy :  0.9833333333333333\n",
      "Test Accuracy :  0.9666666666666667\n",
      "Classification Report:\n",
      "               precision    recall  f1-score   support\n",
      "\n",
      "           0       1.00      1.00      1.00        40\n",
      "           1       1.00      0.95      0.97        41\n",
      "           2       0.95      1.00      0.97        39\n",
      "\n",
      "    accuracy                           0.98       120\n",
      "   macro avg       0.98      0.98      0.98       120\n",
      "weighted avg       0.98      0.98      0.98       120\n",
      "\n"
     ]
    }
   ],
   "source": [
    "knn = KNeighborsClassifier(metric='cosine',n_neighbors=3,p=1,weights='uniform')\n",
    "knn.fit(x_train,y_train)\n",
    "train_pred = knn.predict(x_train)\n",
    "test_pred = knn.predict(x_test)\n",
    "print(\"Training Accuracy : \",accuracy_score(y_train,train_pred))\n",
    "print(\"Test Accuracy : \",accuracy_score(y_test,test_pred))\n",
    "print(\"Classification Report:\\n\",classification_report(y_train,train_pred))"
   ]
  },
  {
   "cell_type": "markdown",
   "metadata": {},
   "source": [
    "## Support Vector Machines (SVM)"
   ]
  },
  {
   "cell_type": "code",
   "execution_count": 9,
   "metadata": {},
   "outputs": [
    {
     "name": "stdout",
     "output_type": "stream",
     "text": [
      "Best Parameter For SVC :  {'C': 1, 'gamma': 'scale', 'kernel': 'linear'}\n"
     ]
    }
   ],
   "source": [
    "sup = SVC()\n",
    "parameters = {\n",
    "    'C':[.1,1,10],\n",
    "    'kernel':['linear','rbf'],\n",
    "    'gamma':['scale','auto']\n",
    "}\n",
    "grid_search = GridSearchCV(sup,parameters,cv=5)\n",
    "grid_search.fit(x_train,y_train)\n",
    "print(\"Best Parameter For SVC : \",grid_search.best_params_)"
   ]
  },
  {
   "cell_type": "code",
   "execution_count": 10,
   "metadata": {},
   "outputs": [
    {
     "name": "stdout",
     "output_type": "stream",
     "text": [
      "Training Accuracy :  0.975\n",
      "Test Accuracy :  1.0\n",
      "Classification Report:\n",
      "               precision    recall  f1-score   support\n",
      "\n",
      "           0       1.00      1.00      1.00        40\n",
      "           1       0.97      0.95      0.96        41\n",
      "           2       0.95      0.97      0.96        39\n",
      "\n",
      "    accuracy                           0.97       120\n",
      "   macro avg       0.97      0.98      0.97       120\n",
      "weighted avg       0.98      0.97      0.98       120\n",
      "\n"
     ]
    }
   ],
   "source": [
    "sup = SVC(C=1,gamma='scale',kernel='linear')\n",
    "sup.fit(x_train,y_train)\n",
    "train_pred = sup.predict(x_train)\n",
    "test_pred = sup.predict(x_test)\n",
    "print(\"Training Accuracy : \",accuracy_score(y_train,train_pred))\n",
    "print(\"Test Accuracy : \",accuracy_score(y_test,test_pred))\n",
    "print(\"Classification Report:\\n\",classification_report(y_train,train_pred))"
   ]
  },
  {
   "cell_type": "markdown",
   "metadata": {},
   "source": [
    "## Naive Bayes"
   ]
  },
  {
   "cell_type": "code",
   "execution_count": 11,
   "metadata": {},
   "outputs": [
    {
     "name": "stdout",
     "output_type": "stream",
     "text": [
      "Best Parameter For Naive Bayse :  {'var_smoothing': 0.001}\n"
     ]
    }
   ],
   "source": [
    "NB = GaussianNB()\n",
    "param_grid = {\n",
    "    'var_smoothing': np.logspace(0, -9, num=10)\n",
    "}\n",
    "grid_search = GridSearchCV(NB,param_grid,cv=5)\n",
    "grid_search.fit(x_train,y_train)\n",
    "print(\"Best Parameter For Naive Bayse : \",grid_search.best_params_)"
   ]
  },
  {
   "cell_type": "code",
   "execution_count": 12,
   "metadata": {},
   "outputs": [
    {
     "name": "stdout",
     "output_type": "stream",
     "text": [
      "Training Accuracy :  0.95\n",
      "Test Accuracy :  1.0\n",
      "Classification Report:\n",
      "               precision    recall  f1-score   support\n",
      "\n",
      "           0       1.00      1.00      1.00        40\n",
      "           1       0.93      0.93      0.93        41\n",
      "           2       0.92      0.92      0.92        39\n",
      "\n",
      "    accuracy                           0.95       120\n",
      "   macro avg       0.95      0.95      0.95       120\n",
      "weighted avg       0.95      0.95      0.95       120\n",
      "\n"
     ]
    }
   ],
   "source": [
    "NB = GaussianNB(var_smoothing=0.001)\n",
    "NB.fit(x_train,y_train)\n",
    "train_pred = NB.predict(x_train)\n",
    "test_pred = NB.predict(x_test)\n",
    "print(\"Training Accuracy : \",accuracy_score(y_train,train_pred))\n",
    "print(\"Test Accuracy : \",accuracy_score(y_test,test_pred))\n",
    "print(\"Classification Report:\\n\",classification_report(y_train,train_pred))"
   ]
  },
  {
   "cell_type": "markdown",
   "metadata": {},
   "source": [
    "## Decision Trees"
   ]
  },
  {
   "cell_type": "code",
   "execution_count": 13,
   "metadata": {},
   "outputs": [
    {
     "name": "stdout",
     "output_type": "stream",
     "text": [
      "Best Parameter For Decision Tree :  {'max_depth': None, 'min_samples_leaf': 1, 'min_samples_split': 2}\n"
     ]
    }
   ],
   "source": [
    "Dtree = DecisionTreeClassifier()\n",
    "param_grid = {\n",
    "    'max_depth': [None, 5, 10, 15],\n",
    "    'min_samples_split': [2, 5, 10], \n",
    "    'min_samples_leaf': [1, 2, 4]\n",
    "}\n",
    "grid_search = GridSearchCV(Dtree,param_grid,cv=5)\n",
    "grid_search.fit(x_train,y_train)\n",
    "print(\"Best Parameter For Decision Tree : \",grid_search.best_params_)"
   ]
  },
  {
   "cell_type": "code",
   "execution_count": 14,
   "metadata": {},
   "outputs": [
    {
     "name": "stdout",
     "output_type": "stream",
     "text": [
      "Training Accuracy :  0.9666666666666667\n",
      "Test Accuracy :  1.0\n",
      "Classification Report:\n",
      "               precision    recall  f1-score   support\n",
      "\n",
      "           0       1.00      1.00      1.00        40\n",
      "           1       0.95      0.95      0.95        41\n",
      "           2       0.95      0.95      0.95        39\n",
      "\n",
      "    accuracy                           0.97       120\n",
      "   macro avg       0.97      0.97      0.97       120\n",
      "weighted avg       0.97      0.97      0.97       120\n",
      "\n"
     ]
    }
   ],
   "source": [
    "Dtree = DecisionTreeClassifier(max_depth=None,min_samples_leaf=1,min_samples_split=2)\n",
    "Dtree.fit(x_train,y_train)\n",
    "train_pred = Dtree.predict(x_train)\n",
    "test_pred = Dtree.predict(x_test)\n",
    "print(\"Training Accuracy : \",accuracy_score(y_train,train_pred))\n",
    "print(\"Test Accuracy : \",accuracy_score(y_test,test_pred))\n",
    "print(\"Classification Report:\\n\",classification_report(y_train,train_pred))"
   ]
  },
  {
   "cell_type": "markdown",
   "metadata": {},
   "source": [
    "## Random Forest"
   ]
  },
  {
   "cell_type": "code",
   "execution_count": 15,
   "metadata": {},
   "outputs": [
    {
     "name": "stdout",
     "output_type": "stream",
     "text": [
      "Best Parameter For Random Forest :  {'max_depth': None, 'min_samples_leaf': 1, 'min_samples_split': 2, 'n_estimators': 50}\n"
     ]
    }
   ],
   "source": [
    "rt = RandomForestClassifier(random_state=0)\n",
    "param_grid = {\n",
    "    'n_estimators': [50, 100, 200], \n",
    "    'max_depth': [None, 5, 10, 15], \n",
    "    'min_samples_split': [2, 5, 10],  \n",
    "    'min_samples_leaf': [1, 2, 4] \n",
    "}\n",
    "grid_search=GridSearchCV(rt,param_grid,cv=5)\n",
    "grid_search.fit(x_train,y_train)\n",
    "print(\"Best Parameter For Random Forest : \",grid_search.best_params_)"
   ]
  },
  {
   "cell_type": "code",
   "execution_count": 16,
   "metadata": {},
   "outputs": [
    {
     "name": "stdout",
     "output_type": "stream",
     "text": [
      "Training Accuracy :  1.0\n",
      "Test Accuracy :  1.0\n",
      "Classification Report:\n",
      "               precision    recall  f1-score   support\n",
      "\n",
      "           0       1.00      1.00      1.00        40\n",
      "           1       1.00      1.00      1.00        41\n",
      "           2       1.00      1.00      1.00        39\n",
      "\n",
      "    accuracy                           1.00       120\n",
      "   macro avg       1.00      1.00      1.00       120\n",
      "weighted avg       1.00      1.00      1.00       120\n",
      "\n"
     ]
    }
   ],
   "source": [
    "rt = RandomForestClassifier(max_depth= None, min_samples_leaf= 1, min_samples_split= 2, n_estimators= 50)\n",
    "rt.fit(x_train,y_train)\n",
    "train_pred = rt.predict(x_train)\n",
    "test_pred = rt.predict(x_test)\n",
    "print(\"Training Accuracy : \",accuracy_score(y_train,train_pred))\n",
    "print(\"Test Accuracy : \",accuracy_score(y_test,test_pred))\n",
    "print(\"Classification Report:\\n\",classification_report(y_train,train_pred))"
   ]
  },
  {
   "cell_type": "markdown",
   "metadata": {},
   "source": [
    "## Gradient Boosting "
   ]
  },
  {
   "cell_type": "code",
   "execution_count": 17,
   "metadata": {},
   "outputs": [
    {
     "name": "stdout",
     "output_type": "stream",
     "text": [
      "Best Parameter For Gradient Boosting :  {'learning_rate': 0.01, 'max_depth': 3, 'n_estimators': 50}\n"
     ]
    }
   ],
   "source": [
    "gb = GradientBoostingClassifier(random_state=0)\n",
    "param_grid = {\n",
    "    'n_estimators': [50, 100, 200], \n",
    "    'learning_rate': [0.1, 0.01, 0.001], \n",
    "    'max_depth': [3, 4, 5]\n",
    "}\n",
    "\n",
    "grid_search = GridSearchCV(gb,param_grid,cv=5)\n",
    "grid_search.fit(x_train,y_train)\n",
    "print(\"Best Parameter For Gradient Boosting : \",grid_search.best_params_)"
   ]
  },
  {
   "cell_type": "code",
   "execution_count": 18,
   "metadata": {},
   "outputs": [
    {
     "name": "stdout",
     "output_type": "stream",
     "text": [
      "Training Accuracy :  0.975\n",
      "Test Accuracy :  1.0\n",
      "Classification Report:\n",
      "               precision    recall  f1-score   support\n",
      "\n",
      "           0       1.00      1.00      1.00        40\n",
      "           1       1.00      0.93      0.96        41\n",
      "           2       0.93      1.00      0.96        39\n",
      "\n",
      "    accuracy                           0.97       120\n",
      "   macro avg       0.98      0.98      0.97       120\n",
      "weighted avg       0.98      0.97      0.97       120\n",
      "\n"
     ]
    }
   ],
   "source": [
    "gb = GradientBoostingClassifier(learning_rate=.01,max_depth=3,n_estimators=50,random_state=0)\n",
    "gb.fit(x_train,y_train)\n",
    "train_pred = gb.predict(x_train)\n",
    "test_pred = gb.predict(x_test)\n",
    "print(\"Training Accuracy : \",accuracy_score(y_train,train_pred))\n",
    "print(\"Test Accuracy : \",accuracy_score(y_test,test_pred))\n",
    "print(\"Classification Report:\\n\",classification_report(y_train,train_pred))"
   ]
  },
  {
   "cell_type": "markdown",
   "metadata": {},
   "source": [
    "## XGBoost"
   ]
  },
  {
   "cell_type": "code",
   "execution_count": 19,
   "metadata": {},
   "outputs": [
    {
     "name": "stdout",
     "output_type": "stream",
     "text": [
      "Best Parameter For XGBOOST :  {'learning_rate': 0.01, 'max_depth': 3, 'n_estimators': 50}\n"
     ]
    }
   ],
   "source": [
    "xg = xgb.XGBClassifier(random_state=0)\n",
    "param_grid = {\n",
    "    'n_estimators': [50, 100, 200],\n",
    "    'learning_rate': [0.1, 0.01, 0.001], \n",
    "    'max_depth': [3, 4, 5]\n",
    "}\n",
    "grid_search = GridSearchCV(xg,param_grid,cv=5)\n",
    "grid_search.fit(X,y)\n",
    "print(\"Best Parameter For XGBOOST : \",grid_search.best_params_)"
   ]
  },
  {
   "cell_type": "code",
   "execution_count": 20,
   "metadata": {},
   "outputs": [
    {
     "name": "stdout",
     "output_type": "stream",
     "text": [
      "Training Accuracy :  0.9666666666666667\n",
      "Test Accuracy :  1.0\n",
      "Classification Report:\n",
      "               precision    recall  f1-score   support\n",
      "\n",
      "           0       1.00      1.00      1.00        40\n",
      "           1       0.95      0.95      0.95        41\n",
      "           2       0.95      0.95      0.95        39\n",
      "\n",
      "    accuracy                           0.97       120\n",
      "   macro avg       0.97      0.97      0.97       120\n",
      "weighted avg       0.97      0.97      0.97       120\n",
      "\n"
     ]
    }
   ],
   "source": [
    "xg = xgb.XGBClassifier(random_state=0,learning_rate=.01,max_depth=3,n_estimators=50)\n",
    "xg.fit(x_train,y_train)\n",
    "train_pred = xg.predict(x_train)\n",
    "test_pred = xg.predict(x_test)\n",
    "print(\"Training Accuracy : \",accuracy_score(y_train,train_pred))\n",
    "print(\"Test Accuracy : \",accuracy_score(y_test,test_pred))\n",
    "print(\"Classification Report:\\n\",classification_report(y_train,train_pred))"
   ]
  }
 ],
 "metadata": {
  "kernelspec": {
   "display_name": "Python 3",
   "language": "python",
   "name": "python3"
  },
  "language_info": {
   "codemirror_mode": {
    "name": "ipython",
    "version": 3
   },
   "file_extension": ".py",
   "mimetype": "text/x-python",
   "name": "python",
   "nbconvert_exporter": "python",
   "pygments_lexer": "ipython3",
   "version": "3.11.1"
  }
 },
 "nbformat": 4,
 "nbformat_minor": 2
}
